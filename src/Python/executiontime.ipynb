{
 "cells": [
  {
   "cell_type": "code",
   "execution_count": 101,
   "metadata": {
    "collapsed": false
   },
   "outputs": [],
   "source": [
    "import numpy as np\n",
    "import matplotlib.pyplot as plt\n",
    "import math\n",
    "import operator\n",
    "\n",
    "class AutoVivification(dict):\n",
    "    \"\"\"Implementation of perl's autovivification feature.\"\"\"\n",
    "    def __getitem__(self, item):\n",
    "        try:\n",
    "            return dict.__getitem__(self, item)\n",
    "        except KeyError:\n",
    "            value = self[item] = type(self)()\n",
    "            return value\n",
    "\n",
    "fileName = '/Users/ssunah/Downloads/z_rcg_measurement_sum.txt'\n",
    "\n",
    "result = AutoVivification()\n",
    "\n",
    "with open(fileName) as f:\n",
    "    next(f)\n",
    "    for line in f:\n",
    "        words = line.split()\n",
    "        result[str(words[1])][float(words[0])]['ARI'] = float(words[2])\n",
    "        result[str(words[1])][float(words[0])]['NMI'] = float(words[3])\n",
    "        result[str(words[1])][float(words[0])]['F-MEASURE'] = float(words[4])\n",
    "        result[str(words[1])][float(words[0])]['InversePurity'] = float(words[5])\n",
    "        result[str(words[1])][float(words[0])]['SimplyPurity'] = float(words[6])"
   ]
  },
  {
   "cell_type": "code",
   "execution_count": 102,
   "metadata": {
    "collapsed": false
   },
   "outputs": [],
   "source": [
    "measure = 'F-MEASURE'\n",
    "\n",
    "plt.figure(figsize=(16, 8))\n",
    "\n",
    "colors = {'louvain': 'blue', 'attractor': 'red', 'mcl': 'black', 'infomap': 'green'}\n",
    "for alg, value in result.iteritems():\n",
    "    x = []\n",
    "    y = []\n",
    "    \n",
    "    sorted_x = sorted(value.items(), key=operator.itemgetter(0))\n",
    "    \n",
    "    for item in sorted_x:\n",
    "        x.append(item[0])\n",
    "\n",
    "    for pout in x:\n",
    "        y.append(value[pout][measure])\n",
    "    # Get 1/F-Measure\n",
    "    \n",
    "    y = [1.0 / i for i in y]\n",
    "    plt.plot(x, y, label='$' + alg +'$', color= colors[alg], linewidth=2)"
   ]
  },
  {
   "cell_type": "code",
   "execution_count": 103,
   "metadata": {
    "collapsed": false
   },
   "outputs": [],
   "source": [
    "plt.xlabel('P_OUT')\n",
    "plt.ylabel(measure)\n",
    "plt.title(\"Community Detection Qualities\")\n",
    "\n",
    "plt.xlim(0.10, 0.45)\n",
    "plt.ylim(0, 0.6)\n",
    "plt.legend()\n",
    "plt.show()"
   ]
  },
  {
   "cell_type": "code",
   "execution_count": null,
   "metadata": {
    "collapsed": false
   },
   "outputs": [],
   "source": []
  },
  {
   "cell_type": "code",
   "execution_count": null,
   "metadata": {
    "collapsed": false
   },
   "outputs": [],
   "source": []
  },
  {
   "cell_type": "code",
   "execution_count": null,
   "metadata": {
    "collapsed": true
   },
   "outputs": [],
   "source": []
  }
 ],
 "metadata": {
  "kernelspec": {
   "display_name": "Python 2",
   "language": "python",
   "name": "python2"
  },
  "language_info": {
   "codemirror_mode": {
    "name": "ipython",
    "version": 2
   },
   "file_extension": ".py",
   "mimetype": "text/x-python",
   "name": "python",
   "nbconvert_exporter": "python",
   "pygments_lexer": "ipython2",
   "version": "2.7.10"
  }
 },
 "nbformat": 4,
 "nbformat_minor": 0
}
