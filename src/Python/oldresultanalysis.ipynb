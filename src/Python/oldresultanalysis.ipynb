{
 "cells": [
  {
   "cell_type": "code",
   "execution_count": 22,
   "metadata": {
    "collapsed": false
   },
   "outputs": [],
   "source": [
    "import numpy as np\n",
    "import matplotlib.pyplot as plt\n",
    "import math\n",
    "\n",
    "fileName = '/Users/ssunah/gitchina/Community-Detection/results/IterationResultBeforeRemovingTailor/friendship_iteration_result_old.iter'\n",
    "\n",
    "d = {}\n",
    "\n",
    "with open(fileName) as f:\n",
    "    for line in f:\n",
    "       (key, val) = line.split()\n",
    "       d[int(key)] = val"
   ]
  },
  {
   "cell_type": "code",
   "execution_count": 23,
   "metadata": {
    "collapsed": false
   },
   "outputs": [
    {
     "name": "stdout",
     "output_type": "stream",
     "text": [
      "0.990573529274 21 327 323 1\n"
     ]
    }
   ],
   "source": [
    "majorIter = 0\n",
    "majorNumber = 0\n",
    "convergeIter = 0\n",
    "convergeNumber = 0\n",
    "\n",
    "sum = 0\n",
    "\n",
    "for key, value in d.iteritems():\n",
    "    sum += int(value)\n",
    "    convergeIter = int(key)\n",
    "    convergeNumber = int(value)\n",
    "    \n",
    "tempSum = 0.0\n",
    "fraction = 0.0\n",
    "\n",
    "for key, value in d.iteritems():\n",
    "    tempSum += int(value)\n",
    "    fraction = tempSum / sum\n",
    "    if (fraction > 0.99):\n",
    "        majorIter = int(key)\n",
    "        majorNumber = int(value)\n",
    "        break\n",
    "\n",
    "print fraction, majorIter, majorNumber, convergeIter, convergeNumber"
   ]
  },
  {
   "cell_type": "code",
   "execution_count": 24,
   "metadata": {
    "collapsed": false
   },
   "outputs": [],
   "source": [
    "plt.figure(figsize=(16,8))\n",
    "\n",
    "ax = plt.subplot()\n",
    "ax.set_yscale('symlog')\n",
    "\n",
    "plt.plot(d.keys(), d.values(), color='blue',linewidth=2, label='Attractor')\n",
    "\n",
    "x = []\n",
    "x.append(majorIter)\n",
    "x.append(majorIter)\n",
    "\n",
    "y = []\n",
    "y.append(-1)\n",
    "y.append(majorNumber)\n",
    "\n",
    "plt.plot(x, y, 'r--', linewidth=2)\n",
    "\n",
    "x = []\n",
    "x.append(convergeIter)\n",
    "x.append(convergeIter)\n",
    "\n",
    "y = []\n",
    "y.append(-1)\n",
    "y.append(convergeNumber)\n",
    "plt.plot(x, y, 'r--', linewidth=2)\n",
    "\n",
    "plt.xlabel('Iteration')\n",
    "plt.ylabel('Edges Converged Per Iteration')\n",
    "plt.title('Analysis Process of Friendship Dataset')\n",
    "plt.text((majorIter) / 2.0 - 10, 10, str('> 99%') , fontsize=16, color='red')\n",
    "# I want major ticks to be every 20\n",
    "\n",
    "number = ((convergeIter / 5) + 1) * 5\n",
    "\n",
    "major_ticks = np.arange(0, number, 10)\n",
    "\n",
    "# I want minor ticks to be every 5\n",
    "minor_ticks = np.arange(0, number, 1)\n",
    "\n",
    "ax.set_xticks(major_ticks)\n",
    "ax.set_xticks(minor_ticks, minor = True)\n",
    "\n",
    "plt.xlim(0, number)\n",
    "plt.ylim(-1, 10 ** (int(math.log10(sum)) + 1))\n",
    "\n",
    "plt.legend()\n",
    "plt.show()"
   ]
  },
  {
   "cell_type": "code",
   "execution_count": null,
   "metadata": {
    "collapsed": false
   },
   "outputs": [],
   "source": []
  },
  {
   "cell_type": "code",
   "execution_count": null,
   "metadata": {
    "collapsed": false
   },
   "outputs": [],
   "source": []
  },
  {
   "cell_type": "code",
   "execution_count": null,
   "metadata": {
    "collapsed": true
   },
   "outputs": [],
   "source": []
  }
 ],
 "metadata": {
  "kernelspec": {
   "display_name": "Python 2",
   "language": "python",
   "name": "python2"
  },
  "language_info": {
   "codemirror_mode": {
    "name": "ipython",
    "version": 2
   },
   "file_extension": ".py",
   "mimetype": "text/x-python",
   "name": "python",
   "nbconvert_exporter": "python",
   "pygments_lexer": "ipython2",
   "version": "2.7.10"
  }
 },
 "nbformat": 4,
 "nbformat_minor": 0
}
