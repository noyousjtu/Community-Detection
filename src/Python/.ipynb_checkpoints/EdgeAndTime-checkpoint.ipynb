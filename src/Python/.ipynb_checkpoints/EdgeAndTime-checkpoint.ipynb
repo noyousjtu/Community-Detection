{
 "cells": [
  {
   "cell_type": "code",
   "execution_count": null,
   "metadata": {
    "collapsed": true
   },
   "outputs": [],
   "source": [
    "import numpy as np\n",
    "import matplotlib.pyplot as plt\n",
    "from scipy.optimize import leastsq\n",
    "import pylab as pl\n",
    "\n",
    "edges = [5427, 6404, 7059, 8422, 10159, 12000, 13401, 14601, 17495, 18599, 20968, 22649, 25812, 26772, 28726, 31493, 33660, 37829, 41437, 44193, 48391, 50136, 51171, 54345, 59579, 68529, 68479, 73419, 76733, 76902, 85262]\n",
    "\n",
    "# execution time for Attractor\n",
    "executionTimeAttractor = [0.721, 0.97, 1.153, 1.53, 2.067, 2.702, 3.494, 3.822, 5.022, 5.584, 7.138, 8.162, 10.437, 10.848, 12.029, 14.561, 15.334, 18.135, 21.378, 23.457, 28.092, 29.401, 30.863, 34.333, 40.456, 49.584, 50.405, 56.041, 61.075, 62.193, 73.117]\n",
    "#execution time for I-Attractor\n",
    "executionTime = [0.394, 0.517, 0.603, 0.835, 1.105, 1.429, 1.717, 2.104, 2.635, 2.888, 3.56, 4.043, 5.228, 5.409, 6.156, 7.174, 7.734, 9.493, 10.844, 12.334, 14.634, 15.451, 15.42, 17.201, 20.108, 25.391, 25.794, 28.358, 30.665, 31.357, 37.142]\n",
    "\n",
    "degree = [27.14, 29.11, 29.41, 32.39, 36.28, 40.00, 41.88, 42.94, 48.60, 48.94, 52.42, 53.93, 58.66, 58.20, 59.85, 62.99, 64.73, 70.05, 73.99, 76.19, 80.65, 80.86, 79.95, 82.34, 87.62, 97.90, 95.11, 99.21, 100.96, 98.59, 106.58]\n",
    "\n",
    "x = [x for x, y in zip(edges, degree)]\n",
    "\n",
    "plt.figure(figsize=(16, 8))\n",
    "plt.scatter(x, executionTimeAttractor, color = 'blue')\n",
    "#plt.scatter(x, executionTimeAttractor, color = 'blue')\n",
    "\n",
    "z1 = np.polyfit(x, executionTimeAttractor, 2)\n",
    "p1 = np.poly1d(z1)\n",
    "\n",
    "plt.plot(x, p1(x), '--b', label='$Attractor$')\n",
    "#plt.plot(x, executionTime, '--g', label='$I-Attractor$')\n",
    "#plt.plot(x, executionTimeAttractor, '--b', label='$Attractor$')\n",
    "\n",
    "# plt.plot(x, y, color=\"blue\",linewidth=2)\n",
    "\n",
    "plt.xlim(5426, 85263)\n",
    "plt.ylim(0, 80)\n",
    "\n",
    "plt.xlabel(\"The Number of Edges\")\n",
    "plt.ylabel(\"Execution Time Per Iteration(s)\")\n",
    "\n",
    "plt.legend()\n",
    "plt.show()"
   ]
  }
 ],
 "metadata": {
  "kernelspec": {
   "display_name": "Python 2",
   "language": "python",
   "name": "python2"
  },
  "language_info": {
   "codemirror_mode": {
    "name": "ipython",
    "version": 2
   },
   "file_extension": ".py",
   "mimetype": "text/x-python",
   "name": "python",
   "nbconvert_exporter": "python",
   "pygments_lexer": "ipython2",
   "version": "2.7.10"
  }
 },
 "nbformat": 4,
 "nbformat_minor": 0
}
