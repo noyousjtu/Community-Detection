{
 "cells": [
  {
   "cell_type": "code",
   "execution_count": 7,
   "metadata": {
    "collapsed": true
   },
   "outputs": [],
   "source": [
    "import networkx as nx"
   ]
  },
  {
   "cell_type": "code",
   "execution_count": 8,
   "metadata": {
    "collapsed": true
   },
   "outputs": [],
   "source": [
    "import community"
   ]
  },
  {
   "cell_type": "code",
   "execution_count": 11,
   "metadata": {
    "collapsed": true
   },
   "outputs": [],
   "source": [
    "# generate gaussian random graph, then output the edges and ground truth\n",
    "for i in range(40, 101, 4):\n",
    "    p = i / 100.0\n",
    "    G = nx.gaussian_random_partition_graph(600, 3, 6, p, 0.1)\n",
    "    path = '/Users/ssunah/testdata/degree/'\n",
    "    edges = 'grpg_' + str(round(p, 2)) + '_0.1_input_edges.csv'\n",
    "    gt = 'grpg_' + str(round(p, 2)) + '_0.1_ground_truth.csv'\n",
    "    nx.write_edgelist(G, path + edges, data=False)\n",
    "    partitions = G.graph['partition']\n",
    "    with open(path + gt,'wb+') as f:\n",
    "        j = 0\n",
    "        for partition in partitions:\n",
    "            j += 1\n",
    "            for id in partition:\n",
    "                f.write(str(j) + ' ' + str(id) + '\\r\\n')"
   ]
  },
  {
   "cell_type": "code",
   "execution_count": 6,
   "metadata": {
    "collapsed": false
   },
   "outputs": [],
   "source": [
    "# generate relaxed caveman graph, then output the edges and ground truth\n",
    "for i in range(200, 500, 20):\n",
    "    G = nx.gaussian_random_partition_graph(i, i / 5, 4, 0.7, 0.15)\n",
    "    path = '/Users/ssunah/testdata/vertex_influce_test_case_1/'\n",
    "    edges = 'grpg_0.8_0.15_' + str(i) + '_input_edges.csv'\n",
    "    gt = 'grpg_0.8_0.15_' + str(i) + '_ground_truth.csv'\n",
    "    nx.write_edgelist(G, path + edges, data=False)\n",
    "    partitions = G.graph['partition']\n",
    "    with open(path + gt,'wb+') as f:\n",
    "        j = 0\n",
    "        for partition in partitions:\n",
    "            j += 1\n",
    "            for id in partition:\n",
    "                f.write(str(j) + ' ' + str(id) + '\\r\\n')"
   ]
  },
  {
   "cell_type": "code",
   "execution_count": 6,
   "metadata": {
    "collapsed": false
   },
   "outputs": [],
   "source": [
    "# generate relaxed caveman graph, then output the edges and ground truth\n",
    "for i in range(10, 45, 5):\n",
    "    p = i / 100.0\n",
    "    G = nx.relaxed_caveman_graph(10, 20, p, seed=i)\n",
    "    path = '/Users/ssunah/testdata/test_cases/'\n",
    "    edges = 'rcg_' + str(round(p, 2)) + '_input_edges.csv'\n",
    "    gt = 'rcg_' + str(round(p, 2)) + '_ground_truth.csv'\n",
    "    nx.write_edgelist(G, path + edges, data=False)\n",
    "    with open(path + gt,'wb+') as f:\n",
    "        for j in range(1, 11):\n",
    "            for k in range (0, 20):\n",
    "                id = (j - 1) * 20 + k\n",
    "                f.write(str(j) + ' ' + str(id) + '\\r\\n')"
   ]
  },
  {
   "cell_type": "code",
   "execution_count": 10,
   "metadata": {
    "collapsed": false
   },
   "outputs": [],
   "source": [
    "# # generate random partition graph, then output the edges and ground truth\n",
    "for i in range(10, 22, 2):\n",
    "    p = i / 100.0\n",
    "    G = nx.random_partition_graph([20, 40, 80, 150, 200], 0.6, p)\n",
    "    path = '/Users/ssunah/testdata/test_cases/'\n",
    "    edges = 'rpg_0.6_' + str(round(p, 2)) + '_input_edges.csv'\n",
    "    gt = 'rpg_0.6_' + str(round(p, 2)) + '_ground_truth.csv'\n",
    "    nx.write_edgelist(G, path + edges, data=False)\n",
    "    partitions = G.graph['partition']\n",
    "    with open(path + gt,'wb+') as f:\n",
    "        j = 0\n",
    "        for partition in partitions:\n",
    "            j += 1\n",
    "            for id in partition:\n",
    "                f.write(str(j) + ' ' + str(id) + '\\r\\n')"
   ]
  },
  {
   "cell_type": "code",
   "execution_count": null,
   "metadata": {
    "collapsed": true
   },
   "outputs": [],
   "source": [
    "# generate gaussian random graph, then output the edges and ground truth\n",
    "for i in range(10, 22, 2):\n",
    "    p = i / 100.0\n",
    "    G = nx.gaussian_random_partition_graph(1000, 100, 4, 0.6, p)\n",
    "    path = '/Users/ssunah/testdata/test_cases/'\n",
    "    edges = 'grpg_0.6_' + str(round(p, 2)) + '_input_edges.csv'\n",
    "    gt = 'grpg_0.6_' + str(round(p, 2)) + '_ground_truth.csv'\n",
    "    nx.write_edgelist(G, path + edges, data=False)\n",
    "    partitions = G.graph['partition']\n",
    "    with open(path + gt,'wb+') as f:\n",
    "        j = 0\n",
    "        for partition in partitions:\n",
    "            j += 1\n",
    "            for id in partition:\n",
    "                f.write(str(j) + ' ' + str(id) + '\\r\\n')"
   ]
  }
 ],
 "metadata": {
  "kernelspec": {
   "display_name": "Python 2",
   "language": "python",
   "name": "python2"
  },
  "language_info": {
   "codemirror_mode": {
    "name": "ipython",
    "version": 2
   },
   "file_extension": ".py",
   "mimetype": "text/x-python",
   "name": "python",
   "nbconvert_exporter": "python",
   "pygments_lexer": "ipython2",
   "version": "2.7.10"
  }
 },
 "nbformat": 4,
 "nbformat_minor": 0
}
