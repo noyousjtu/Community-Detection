{
 "cells": [
  {
   "cell_type": "code",
   "execution_count": 30,
   "metadata": {
    "collapsed": false
   },
   "outputs": [],
   "source": [
    "import numpy as np\n",
    "import matplotlib.pyplot as plt\n",
    "import math\n",
    "\n",
    "fileName = '/Users/ssunah/gitchina/Community-Detection/results/IterationResultBeforeRemovingTailor/road_iteration_result_old.iter'\n",
    "\n",
    "dOld = {}\n",
    "\n",
    "with open(fileName) as f:\n",
    "    for line in f:\n",
    "       (key, val) = line.split()\n",
    "       dOld[int(key)] = val\n",
    "\n",
    "fileName = '/Users/ssunah/gitchina/Community-Detection/results/IterationResultBeforeRemovingTailor/road_iteration_result_new.iter'\n",
    "\n",
    "dNew = {}\n",
    "\n",
    "with open(fileName) as f:\n",
    "    for line in f:\n",
    "       (key, val) = line.split()\n",
    "       dNew[int(key)] = val"
   ]
  },
  {
   "cell_type": "code",
   "execution_count": 31,
   "metadata": {
    "collapsed": false
   },
   "outputs": [],
   "source": [
    "convergeIter = 0\n",
    "convergeNumber = 0\n",
    "\n",
    "sum = 0\n",
    "\n",
    "for key, value in dOld.iteritems():\n",
    "    sum += int(value)\n",
    "    convergeIter = int(key)\n",
    "    convergeNumber = int(value)\n",
    "\n",
    "newConvergeIter = 0\n",
    "newConvergeNumber = 0\n",
    "for key, value in dNew.iteritems():\n",
    "    newConvergeIter = int(key)\n",
    "    newConvergeNumber = int(value)\n"
   ]
  },
  {
   "cell_type": "code",
   "execution_count": 32,
   "metadata": {
    "collapsed": false
   },
   "outputs": [],
   "source": [
    "plt.figure(figsize=(16,8))\n",
    "\n",
    "ax = plt.subplot()\n",
    "ax.set_yscale('symlog')\n",
    "\n",
    "plt.plot(dOld.keys(), dOld.values(), color='blue',linewidth=2, label=\"$Attractor$\")\n",
    "plt.plot(dNew.keys(), dNew.values(), color='green',linewidth=2, label=\"$I-Attractor$\")\n",
    "\n",
    "x = []\n",
    "x.append(newConvergeIter)\n",
    "x.append(newConvergeIter)\n",
    "\n",
    "y = []\n",
    "y.append(-1)\n",
    "y.append(newConvergeNumber)\n",
    "\n",
    "plt.plot(x, y, 'r--', linewidth=2)\n",
    "\n",
    "x = []\n",
    "x.append(convergeIter)\n",
    "x.append(convergeIter)\n",
    "\n",
    "y = []\n",
    "y.append(-1)\n",
    "y.append(convergeNumber)\n",
    "plt.plot(x, y, 'r--', linewidth=2)\n",
    "\n",
    "\n",
    "plt.xlabel('Iteration')\n",
    "plt.ylabel('Edges Converged Per Iteration')\n",
    "plt.title('Analysis Process of Road Dataset')\n",
    "\n",
    "number = ((convergeIter / 5) + 1) * 5\n",
    "\n",
    "major_ticks = np.arange(0, number, 10)\n",
    "\n",
    "minor_ticks = np.arange(0, number, 1)\n",
    "\n",
    "ax.set_xticks(major_ticks)\n",
    "ax.set_xticks(minor_ticks, minor = True)\n",
    "\n",
    "plt.xlim(0, number)\n",
    "plt.ylim(-1, 10 ** (int(math.log10(sum)) + 1))\n",
    "\n",
    "plt.legend()\n",
    "plt.show()"
   ]
  },
  {
   "cell_type": "code",
   "execution_count": null,
   "metadata": {
    "collapsed": false
   },
   "outputs": [],
   "source": []
  },
  {
   "cell_type": "code",
   "execution_count": null,
   "metadata": {
    "collapsed": false
   },
   "outputs": [],
   "source": []
  },
  {
   "cell_type": "code",
   "execution_count": null,
   "metadata": {
    "collapsed": true
   },
   "outputs": [],
   "source": []
  }
 ],
 "metadata": {
  "kernelspec": {
   "display_name": "Python 2",
   "language": "python",
   "name": "python2"
  },
  "language_info": {
   "codemirror_mode": {
    "name": "ipython",
    "version": 2
   },
   "file_extension": ".py",
   "mimetype": "text/x-python",
   "name": "python",
   "nbconvert_exporter": "python",
   "pygments_lexer": "ipython2",
   "version": "2.7.10"
  }
 },
 "nbformat": 4,
 "nbformat_minor": 0
}
